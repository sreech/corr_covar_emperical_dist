{
  "nbformat": 4,
  "nbformat_minor": 0,
  "metadata": {
    "colab": {
      "provenance": []
    },
    "kernelspec": {
      "name": "python3",
      "display_name": "Python 3"
    },
    "language_info": {
      "name": "python"
    }
  },
  "cells": [
    {
      "cell_type": "markdown",
      "source": [
        "So far, you have had experience predicting data which fits probability distribution such as normal and binomial distribution. However, data does not always fit nicely against these well-known distribution types. When this occurs, one of your options is to use the Empirical Cumulative Distribution Function (ECDF) and historical data to predict future data values.\n",
        "\n",
        "The ECDF is calculated by ordering all of the unique observations in the data sample and calculating the cumulative probability for each as the number of observations less than or equal to a given observation divided by the total number of observations.\n",
        "\n",
        "In this try-it activity, you will use Python to create a sample dataset and analyze the ECDF against the generated data. First let us start by creating a non-normally distributed data set. We can do this by creating a two-peak dataset by combining two normal distributions."
      ],
      "metadata": {
        "id": "plHO4BaRItzl"
      }
    },
    {
      "cell_type": "code",
      "source": [
        "# example of a bimodal data sample\n",
        "import numpy as np\n",
        "from matplotlib import pyplot\n",
        "from numpy.random import normal\n",
        "from numpy import hstack\n",
        "# generate a sample\n",
        "sample1 = normal(loc=80, scale=5, size=300)\n",
        "sample2 = normal(loc=60, scale=5, size=700)\n",
        "sample = hstack((sample1, sample2))\n",
        "\n",
        "sample"
      ],
      "metadata": {
        "id": "DEBWgw3RG8ZC",
        "colab": {
          "base_uri": "https://localhost:8080/"
        },
        "outputId": "769fbd28-b61f-4e6d-9f9d-5c590b608b02"
      },
      "execution_count": 2,
      "outputs": [
        {
          "output_type": "execute_result",
          "data": {
            "text/plain": [
              "array([84.63565569, 79.24858716, 85.48588991, 74.06221943, 77.19159192,\n",
              "       73.10843336, 73.48424603, 79.42806361, 74.98935214, 84.09116242,\n",
              "       83.69036897, 72.96609738, 78.85958526, 76.45918869, 78.53687127,\n",
              "       81.03380867, 83.84744686, 77.65820761, 77.19916483, 73.28442059,\n",
              "       85.37218715, 78.58741323, 84.14476105, 86.96312538, 89.9468423 ,\n",
              "       75.326322  , 77.42225775, 81.41158682, 74.34982266, 85.52294782,\n",
              "       80.4754404 , 77.30928926, 90.75177655, 83.23615222, 89.50392495,\n",
              "       90.66687428, 80.35551749, 83.33281743, 88.23994375, 78.82262751,\n",
              "       72.27911104, 74.18374784, 82.9276724 , 65.98481591, 84.0843947 ,\n",
              "       78.71759797, 85.23945381, 80.23709637, 74.37746458, 77.4190845 ,\n",
              "       84.03981878, 76.80434135, 79.09249426, 86.34479956, 83.23333206,\n",
              "       83.33022603, 80.99836742, 76.54622055, 85.01062888, 90.0268065 ,\n",
              "       80.4104809 , 78.09678793, 79.78091008, 62.17616884, 75.81996974,\n",
              "       75.53803388, 78.57879786, 76.91590394, 66.97534784, 79.74971995,\n",
              "       81.22207587, 74.81235504, 73.54672225, 80.15057089, 78.45972856,\n",
              "       78.1052284 , 82.76371056, 74.67872288, 81.93489124, 84.48985127,\n",
              "       79.64967668, 83.59434091, 73.9581068 , 84.578317  , 84.78265362,\n",
              "       88.86330565, 85.21814083, 73.30200238, 85.56173015, 83.61765221,\n",
              "       71.01505017, 82.94630713, 81.71344009, 79.75500852, 82.50973464,\n",
              "       76.96500581, 74.75894413, 87.87568672, 81.00537723, 81.01657522,\n",
              "       83.38617288, 84.5796544 , 89.54290173, 82.81203729, 82.45395197,\n",
              "       89.69627734, 85.14953017, 74.25160136, 75.65202064, 85.10000057,\n",
              "       79.58908215, 85.3593516 , 72.58707076, 74.44748206, 80.34643265,\n",
              "       80.36517904, 75.32508371, 75.15349859, 79.82257109, 78.03269806,\n",
              "       76.40271075, 80.61254833, 77.07271461, 79.9635855 , 81.88063689,\n",
              "       80.85794725, 72.96281952, 83.32495463, 84.43542155, 76.60279839,\n",
              "       78.96075958, 83.454017  , 82.75252711, 81.85265668, 76.47226867,\n",
              "       80.63460608, 74.28659958, 81.32688532, 90.78119235, 79.8698439 ,\n",
              "       73.3691265 , 73.94578313, 80.96511414, 76.8776409 , 78.45590942,\n",
              "       80.89510814, 80.68600123, 82.74232691, 77.74097724, 72.95138653,\n",
              "       82.92830595, 86.88321046, 83.29142233, 71.30256109, 78.09933463,\n",
              "       84.85299489, 75.72344955, 71.7361554 , 72.86832456, 75.52239229,\n",
              "       76.57178674, 88.932607  , 89.09034539, 72.16992786, 89.11672748,\n",
              "       78.6248121 , 81.465752  , 84.50237027, 80.07255494, 78.42432883,\n",
              "       70.69760766, 70.27586793, 81.19532727, 64.61778124, 81.98945152,\n",
              "       73.96031542, 79.60585839, 80.51615666, 87.22848432, 80.83275778,\n",
              "       77.74943691, 79.9947121 , 84.05206308, 83.21653717, 84.5453673 ,\n",
              "       73.46102778, 75.26687997, 78.91150274, 80.50135352, 77.17823874,\n",
              "       81.78309106, 86.6910414 , 73.84804798, 81.30395798, 83.67223898,\n",
              "       76.66581812, 86.6748628 , 79.25836574, 88.47397052, 79.98416436,\n",
              "       76.14976244, 73.05083739, 88.87831387, 74.72611309, 82.52857755,\n",
              "       83.08855386, 76.99732212, 75.35718766, 72.08598048, 83.71412231,\n",
              "       70.54868847, 79.59476129, 71.05353268, 85.90870951, 80.99392482,\n",
              "       79.42130394, 71.41703578, 67.9261292 , 77.00810746, 77.23302061,\n",
              "       79.32122209, 81.62262578, 84.25705305, 76.35094317, 82.4045721 ,\n",
              "       76.82315689, 80.3742166 , 78.41737954, 76.97893967, 79.90323602,\n",
              "       86.29601053, 77.81914765, 65.42544268, 80.74484705, 81.73456407,\n",
              "       78.94784824, 79.47628012, 75.07061406, 70.95466648, 79.71861769,\n",
              "       81.90107384, 87.72531859, 88.69025815, 77.63290732, 82.28733875,\n",
              "       84.30790156, 93.03280441, 77.55218546, 74.95545484, 83.91886461,\n",
              "       75.71574815, 76.88505685, 80.32987835, 71.88409361, 76.62744878,\n",
              "       82.23335722, 80.24290442, 81.42338188, 88.85148145, 83.86571978,\n",
              "       85.15577701, 79.147193  , 74.71957441, 82.16105194, 82.4088876 ,\n",
              "       76.75908488, 74.36916842, 75.06864905, 86.30760654, 80.73185158,\n",
              "       80.92526165, 79.08794411, 84.89229665, 79.61487011, 90.76320957,\n",
              "       86.48319471, 80.73844919, 90.70075735, 81.25870431, 81.21730898,\n",
              "       76.40949929, 83.33476553, 83.82432581, 82.02272542, 76.53690979,\n",
              "       70.98475793, 76.76434918, 82.84530346, 72.79645095, 71.74549141,\n",
              "       71.30480101, 70.79522953, 78.59293033, 82.53597009, 76.21376372,\n",
              "       78.20166797, 74.5966148 , 82.6303183 , 83.27574954, 73.44801667,\n",
              "       68.6350903 , 56.20183947, 63.1525453 , 63.5365122 , 58.60429807,\n",
              "       66.13544401, 68.4790248 , 67.13324789, 59.91509489, 59.67907356,\n",
              "       59.62717149, 60.14686266, 62.17301901, 54.02392329, 58.60742002,\n",
              "       53.32382541, 67.41369951, 61.0253016 , 52.06470048, 54.38401026,\n",
              "       50.75504524, 62.74511365, 60.80477161, 65.21544161, 62.49404762,\n",
              "       56.24015232, 57.1871946 , 58.04081631, 61.95781454, 70.23092445,\n",
              "       56.35370924, 55.11733915, 56.17499605, 61.4812264 , 60.18279906,\n",
              "       66.72254551, 58.27273345, 52.92388206, 73.71424463, 63.41753303,\n",
              "       67.16226892, 70.15064375, 65.51704824, 68.61149996, 62.51823229,\n",
              "       58.05756992, 49.54211156, 59.18634375, 58.15539011, 58.80654553,\n",
              "       61.03575042, 51.99645151, 56.8691587 , 61.37348267, 68.12395595,\n",
              "       62.54991258, 55.70961371, 66.7716009 , 64.60089357, 65.81550576,\n",
              "       61.72222964, 56.64837068, 63.5984513 , 56.53525336, 55.79560521,\n",
              "       69.11703835, 70.53504717, 54.07574496, 57.33748628, 49.18341849,\n",
              "       48.45849552, 64.26063557, 57.49986326, 55.97712038, 58.88207344,\n",
              "       46.75275445, 54.71983025, 68.35330653, 62.40509989, 51.49605872,\n",
              "       56.9295843 , 60.80970777, 60.20244279, 48.78984517, 53.69349632,\n",
              "       61.60689038, 54.53302131, 56.62618589, 52.67984343, 58.9120976 ,\n",
              "       52.18043632, 62.72143871, 54.32955202, 53.25467939, 63.97370809,\n",
              "       66.34662561, 58.42236281, 58.69325042, 51.80016583, 65.10331229,\n",
              "       56.34142126, 65.25799639, 54.59299428, 60.24498357, 54.15210364,\n",
              "       58.17344208, 65.1807481 , 68.4296679 , 63.91086147, 54.62696609,\n",
              "       55.52087617, 61.61154264, 55.31051352, 54.85009479, 54.89858269,\n",
              "       56.46711457, 70.28513006, 47.43146648, 60.10929813, 59.2459677 ,\n",
              "       51.67738768, 61.28386004, 60.07253269, 59.19522572, 55.997856  ,\n",
              "       52.58422983, 59.1708308 , 48.98907821, 57.52881874, 58.51226192,\n",
              "       65.09723564, 63.97302707, 65.31918231, 54.43825637, 58.84713368,\n",
              "       51.84020196, 52.15484763, 62.66250702, 56.29618509, 57.84648988,\n",
              "       60.58103316, 54.89545786, 59.0510915 , 63.48414559, 66.1823009 ,\n",
              "       54.86881303, 55.46716313, 62.21331755, 58.27368605, 60.01694799,\n",
              "       69.914512  , 65.8196567 , 55.09120017, 58.5217661 , 57.51179218,\n",
              "       57.80544568, 67.76686877, 62.26262584, 62.99592151, 67.28363465,\n",
              "       66.33713129, 56.38696025, 52.13589611, 53.89704469, 59.81723727,\n",
              "       48.5735202 , 52.4482618 , 56.38056352, 63.76672905, 49.55606451,\n",
              "       72.42824422, 55.62657047, 58.64130255, 71.55014087, 54.82141585,\n",
              "       58.66540025, 61.09106751, 70.23702545, 47.85623049, 68.19079079,\n",
              "       55.70177836, 58.06823909, 54.3434239 , 68.77576089, 68.61897486,\n",
              "       49.59091609, 64.36504546, 57.99443869, 63.26288758, 67.0830755 ,\n",
              "       56.67769686, 61.5875833 , 56.78427088, 50.67943819, 58.36282611,\n",
              "       56.15399562, 60.78793016, 55.50712377, 62.6001677 , 69.75364044,\n",
              "       62.48453372, 58.38141759, 65.31961301, 64.03989356, 59.83142612,\n",
              "       59.72048658, 62.72169571, 55.53183039, 61.27111994, 62.80231415,\n",
              "       65.90643297, 53.27315129, 59.14400656, 61.30416968, 51.54812726,\n",
              "       57.60104643, 61.72924887, 58.31903306, 60.45145874, 58.0102519 ,\n",
              "       56.14237745, 52.51813883, 64.41042314, 64.7741271 , 59.62220216,\n",
              "       59.44447069, 60.22027401, 61.73457011, 59.81576891, 58.60227986,\n",
              "       68.05030703, 60.61437458, 58.7827472 , 69.92924059, 60.8795289 ,\n",
              "       60.99837467, 56.5319121 , 59.18894851, 60.58347932, 60.63931112,\n",
              "       54.9882118 , 54.21978151, 53.25075701, 65.93949008, 52.34048883,\n",
              "       57.16477884, 65.35186712, 61.0835589 , 59.26706322, 58.35875653,\n",
              "       63.86478571, 53.33819072, 64.7084205 , 58.26212025, 61.3866215 ,\n",
              "       65.01093461, 56.60754434, 60.4274089 , 65.6254707 , 57.12194922,\n",
              "       55.55264384, 64.54215143, 55.04432552, 50.89726765, 57.80792427,\n",
              "       61.16704531, 53.31601689, 60.07254503, 66.40643926, 62.96217475,\n",
              "       57.78012741, 62.3725607 , 59.73477345, 61.06390642, 58.80929374,\n",
              "       61.46945275, 63.31567221, 61.72198579, 52.04350843, 54.9418395 ,\n",
              "       59.62435735, 63.9051692 , 60.12862105, 65.61668838, 57.75979572,\n",
              "       55.70190795, 66.65664299, 55.60215773, 67.36864883, 66.4832147 ,\n",
              "       62.24074424, 65.39308215, 57.67448251, 55.29642657, 67.23543482,\n",
              "       59.34091032, 60.74907607, 57.77075443, 63.95345098, 59.53052832,\n",
              "       62.46103792, 53.38666647, 68.69704861, 60.27190199, 60.71299944,\n",
              "       58.48525865, 56.07944901, 52.06790445, 57.9228549 , 62.19228162,\n",
              "       58.7120975 , 63.79253602, 58.81718652, 58.613739  , 60.50671801,\n",
              "       62.93441156, 59.71742115, 61.53779376, 58.55926502, 58.39450775,\n",
              "       60.27195594, 60.77943152, 63.0732516 , 59.94116525, 63.16785362,\n",
              "       59.63281083, 60.92629761, 56.54055721, 50.67422213, 60.23100477,\n",
              "       63.52759331, 59.86448709, 61.0629474 , 57.39991231, 60.77197899,\n",
              "       64.62457861, 61.5479209 , 53.69542261, 64.15218174, 61.51557369,\n",
              "       50.42392354, 56.34673922, 55.23152292, 61.78809607, 51.88317397,\n",
              "       66.17657123, 62.18816867, 52.67704161, 58.68400386, 52.3332151 ,\n",
              "       65.21552359, 67.94184907, 63.07943234, 58.98892447, 60.50791255,\n",
              "       61.98924157, 58.34825943, 57.37016467, 61.94204968, 66.15031248,\n",
              "       66.51625851, 55.76588052, 48.81451533, 62.90771051, 57.46514638,\n",
              "       66.26435537, 65.08085819, 59.2906645 , 63.37835509, 66.82720031,\n",
              "       54.96534014, 65.13134151, 63.79653653, 55.42375927, 65.69646887,\n",
              "       62.91200881, 62.6033356 , 51.69625785, 62.00486135, 57.82627322,\n",
              "       58.03315599, 65.10279105, 59.70159214, 58.52907655, 52.40966995,\n",
              "       68.8163451 , 62.77594989, 67.10634295, 65.48969001, 51.9447338 ,\n",
              "       65.56505359, 59.90800037, 61.17026637, 55.72481033, 59.89062821,\n",
              "       56.75872806, 66.41567603, 59.22669937, 65.68099165, 58.047306  ,\n",
              "       72.95211852, 56.87882758, 54.26517339, 59.5804615 , 61.34570166,\n",
              "       56.71924868, 55.48043831, 56.73404623, 54.61544203, 55.03413829,\n",
              "       59.51582522, 64.26221468, 69.56468238, 63.76854172, 64.2605849 ,\n",
              "       52.77366879, 57.92622928, 57.11379812, 61.1021017 , 57.64397997,\n",
              "       59.6942091 , 49.57904568, 63.75670989, 57.56748472, 67.71398627,\n",
              "       60.7429592 , 62.79010576, 64.19526787, 53.69037709, 60.69027805,\n",
              "       59.7618717 , 50.26217037, 54.32933563, 55.7001354 , 62.0512213 ,\n",
              "       61.09433237, 60.12625945, 68.66566761, 63.25003274, 69.44084624,\n",
              "       63.60390211, 68.50075596, 62.5987748 , 62.77197232, 61.48751909,\n",
              "       54.867517  , 47.47367897, 54.37950027, 60.13466231, 65.33217422,\n",
              "       63.04155711, 64.70136718, 58.71420423, 56.89204934, 55.64214028,\n",
              "       65.28731697, 57.9199676 , 55.29619996, 61.37691169, 60.12135685,\n",
              "       56.43020533, 54.76784966, 57.48580028, 56.94385928, 67.79359161,\n",
              "       61.15981418, 57.35631151, 56.19867055, 71.35481881, 59.98168264,\n",
              "       59.668659  , 62.07710798, 54.47014386, 57.88547106, 60.71469089,\n",
              "       67.78554542, 66.40039211, 65.9585121 , 58.180759  , 63.93417587,\n",
              "       60.44596658, 59.85865534, 58.967396  , 60.75237794, 62.26013654,\n",
              "       51.94839861, 61.79482649, 60.56900022, 57.56549179, 59.88899154,\n",
              "       66.30397958, 67.14805928, 52.50696417, 54.40643254, 57.77912833,\n",
              "       57.86417154, 62.64001016, 58.92012206, 59.94059921, 58.2557661 ,\n",
              "       58.67233174, 56.6468468 , 63.10824779, 57.75798668, 53.93999975,\n",
              "       56.90016331, 52.76198272, 58.30592479, 67.72005398, 46.08090235,\n",
              "       60.35814638, 64.6407817 , 63.64972608, 61.42211915, 59.66668686,\n",
              "       58.50248864, 64.97622408, 48.0012438 , 57.05317112, 57.14752624,\n",
              "       59.75544237, 58.54002347, 69.26515128, 69.33811066, 61.65115951,\n",
              "       61.58858305, 52.68095134, 57.82232638, 62.36460205, 67.36839098,\n",
              "       54.5879674 , 56.55980447, 52.67834315, 54.42310699, 49.94987222,\n",
              "       53.55394575, 56.82142378, 64.9389804 , 59.61978464, 55.55356806,\n",
              "       57.43986799, 63.18519883, 60.0072535 , 67.54097041, 57.6722904 ,\n",
              "       58.05738166, 61.61124602, 63.76454425, 63.78540668, 62.64349784,\n",
              "       63.37960343, 56.7463427 , 60.20456159, 62.3774696 , 53.9009498 ,\n",
              "       63.97576424, 60.17685537, 65.14156255, 69.14820149, 56.60703843,\n",
              "       53.27228336, 56.18667209, 58.80560004, 65.42198551, 58.52600536,\n",
              "       66.47983867, 57.04675972, 61.1894321 , 68.71278846, 59.03138644,\n",
              "       65.31739368, 61.81359966, 53.03900897, 58.0638271 , 58.20100195,\n",
              "       55.66479647, 62.44417677, 61.74639791, 51.62260331, 62.79373851,\n",
              "       53.75852217, 63.20527021, 64.09448247, 58.36721852, 61.13637916,\n",
              "       60.53497828, 62.82373144, 60.50203935, 55.10335842, 61.05884296,\n",
              "       55.32422872, 63.36627868, 58.340054  , 54.64436185, 66.09607189,\n",
              "       56.75691428, 54.33432832, 61.30397287, 56.4953907 , 65.23629209,\n",
              "       59.06943514, 55.72050552, 57.52297941, 58.31976871, 65.03777639,\n",
              "       64.39717619, 56.16168914, 53.83525398, 61.51020943, 66.29100474,\n",
              "       61.71759874, 59.34063779, 64.91170112, 63.88171781, 63.43269294,\n",
              "       62.89333098, 68.47704248, 65.77294728, 54.02344778, 60.1230468 ,\n",
              "       57.038373  , 63.5400858 , 68.41839069, 60.45694106, 64.16421678,\n",
              "       54.31168125, 58.59790543, 58.7443277 , 63.33724895, 69.44454339,\n",
              "       59.04928929, 52.33225384, 53.45822802, 56.27990998, 54.32371541,\n",
              "       60.16761773, 60.40547784, 56.87559984, 67.16823987, 50.09384002,\n",
              "       55.5363177 , 60.24491483, 57.84802249, 61.56013196, 49.98256575,\n",
              "       66.63260361, 63.48998316, 57.28564366, 51.98741215, 66.83876115,\n",
              "       44.85334128, 57.04385824, 60.4229658 , 57.4414892 , 56.14647409,\n",
              "       63.69030807, 67.21769762, 54.63239281, 70.13701116, 65.50489759,\n",
              "       57.91808175, 62.49038912, 66.50287066, 61.32072476, 62.92940419,\n",
              "       60.65847129, 58.61275747, 67.48660067, 60.82708065, 57.76141099,\n",
              "       63.68190437, 69.95857464, 61.15847449, 55.84005685, 61.03753401,\n",
              "       58.29824873, 62.78582125, 58.05676798, 59.36602716, 62.60457508,\n",
              "       66.21732228, 61.51934363, 60.11705656, 63.7535599 , 59.76941987,\n",
              "       53.83794065, 62.1783369 , 54.97250798, 63.59966682, 48.14236521,\n",
              "       60.6958122 , 57.41503795, 55.72133936, 64.08934992, 65.0264263 ,\n",
              "       50.45325849, 53.45309426, 61.16192801, 57.32056358, 59.77279628])"
            ]
          },
          "metadata": {},
          "execution_count": 2
        }
      ]
    },
    {
      "cell_type": "markdown",
      "source": [
        "This dataset will represent an entire state's benchmark score on their state exam. Their scores can be any number between 0 and 100 (extra credit was not an option). Printing the data out like this does not do much, so let us view a histogram of the data to visuaslize it more. "
      ],
      "metadata": {
        "id": "nlK4fi-BKPHJ"
      }
    },
    {
      "cell_type": "code",
      "source": [
        "pyplot.hist(sample, bins=50)\n",
        "pyplot.show()"
      ],
      "metadata": {
        "colab": {
          "base_uri": "https://localhost:8080/",
          "height": 265
        },
        "id": "fgNDd-imy4F6",
        "outputId": "c8813c19-d422-4dab-9d5b-03f6341fc418"
      },
      "execution_count": 3,
      "outputs": [
        {
          "output_type": "display_data",
          "data": {
            "text/plain": [
              "<Figure size 432x288 with 1 Axes>"
            ],
            "image/png": "[encoded data removed]"
          },
          "metadata": {
            "needs_background": "light"
          }
        }
      ]
    },
    {
      "cell_type": "markdown",
      "source": [
        "As you can see, this is **not normally distributed**. Let us find some other information out about the exam scored. "
      ],
      "metadata": {
        "id": "yYM0rw-gy6C2"
      }
    },
    {
      "cell_type": "code",
      "source": [
        "from tabulate import tabulate\n",
        "\n",
        "def range(x, axis=0):\n",
        "    return np.max(x, axis=axis) - np.min(x, axis=axis)\n",
        "\n",
        "data = [\n",
        "[\"Mean: \", np.mean(sample)],\n",
        "[\"Max Score\", np.max(sample)],\n",
        "[\"Min Score\", np.min(sample)],\n",
        "[\"Range:\", range(sample)]]\n",
        "\n",
        "print (tabulate(data))"
      ],
      "metadata": {
        "colab": {
          "base_uri": "https://localhost:8080/"
        },
        "id": "tbrZmxOW1G0F",
        "outputId": "6eaaf328-a13c-4a66-df1b-f8015ea075b3"
      },
      "execution_count": 4,
      "outputs": [
        {
          "output_type": "stream",
          "name": "stdout",
          "text": [
            "---------  -------\n",
            "Mean:      65.8126\n",
            "Max Score  93.0328\n",
            "Min Score  44.8533\n",
            "Range:     48.1795\n",
            "---------  -------\n"
          ]
        }
      ]
    },
    {
      "cell_type": "markdown",
      "source": [
        "From this we can see the highest score was 94%, lowest was a 43% with an average of 65%. Let us use the empirical distribution function to find the probability of future student's receiving certain scores. "
      ],
      "metadata": {
        "id": "MEmTsQA42-I3"
      }
    },
    {
      "cell_type": "code",
      "source": [
        "from matplotlib import pyplot\n",
        "from numpy.random import normal\n",
        "from numpy import hstack\n",
        "from statsmodels.distributions.empirical_distribution import ECDF \n",
        "\n",
        "ecdf = ECDF(sample)\n",
        "\n",
        "data = [\n",
        "[\"P(x<94): \", ecdf(94)],\n",
        "[\"P(x<44): \", ecdf(44)],\n",
        "[\"P(x<Mean):\", ecdf(np.mean(sample))]]\n",
        "\n",
        "print (tabulate(data))\n"
      ],
      "metadata": {
        "colab": {
          "base_uri": "https://localhost:8080/"
        },
        "id": "rqAw4oCGx2aC",
        "outputId": "2d939cef-26c4-412c-84e6-00107078c41f"
      },
      "execution_count": 8,
      "outputs": [
        {
          "output_type": "stream",
          "name": "stdout",
          "text": [
            "----------  -----\n",
            "P(x<94):    1\n",
            "P(x<44):    0\n",
            "P(x<Mean):  0.615\n",
            "----------  -----\n"
          ]
        }
      ]
    },
    {
      "cell_type": "markdown",
      "source": [
        "One thing that is noteworthy about the previous step, is we discovered that although the average score was a 65%, there is an above average probability a random student's score is below the average. As seen in previous modules, statistically calculating what you'd expect a random varaible to be can often be vastly different than what you would discover using probability. \n",
        "\n",
        "Let us take a look at the probability a student's score falls within the following ranges. "
      ],
      "metadata": {
        "id": "G0MvJH3p7aiv"
      }
    },
    {
      "cell_type": "code",
      "source": [
        "data = [\n",
        "[\"P(x>90): \", 1 - ecdf(90)],\n",
        "[\"P(x>75): \", 1 - ecdf(75)],\n",
        "[\"P(x<50):\", ecdf(50)]]\n",
        "\n",
        "print (tabulate(data))"
      ],
      "metadata": {
        "colab": {
          "base_uri": "https://localhost:8080/"
        },
        "id": "aGhYEcj18QNP",
        "outputId": "3699ca98-7d0f-4243-97b0-08345fa267d6"
      },
      "execution_count": 9,
      "outputs": [
        {
          "output_type": "stream",
          "name": "stdout",
          "text": [
            "--------  -----\n",
            "P(x>90):  0.007\n",
            "P(x>75):  0.242\n",
            "P(x<50):  0.02\n",
            "--------  -----\n"
          ]
        }
      ]
    },
    {
      "cell_type": "markdown",
      "source": [
        "Lastley, let us visualize the explanation of this by printing out the empirical distribution's CDF. "
      ],
      "metadata": {
        "id": "k8e9dWt0Cf0_"
      }
    },
    {
      "cell_type": "code",
      "source": [
        "\n",
        "# plot the cdf of the empirical distribution\n",
        "pyplot.plot(ecdf.x, ecdf.y)\n",
        "pyplot.show()"
      ],
      "metadata": {
        "colab": {
          "base_uri": "https://localhost:8080/",
          "height": 265
        },
        "id": "-deHMuqsHAZ1",
        "outputId": "915b7749-88f1-4240-9f94-e4abcd9d4724"
      },
      "execution_count": 10,
      "outputs": [
        {
          "output_type": "display_data",
          "data": {
            "text/plain": [
              "<Figure size 432x288 with 1 Axes>"
            ],
            "image/png": "[encoded data removed]"
          },
          "metadata": {
            "needs_background": "light"
          }
        }
      ]
    }
  ]
}